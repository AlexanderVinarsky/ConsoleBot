{
  "nbformat": 4,
  "nbformat_minor": 0,
  "metadata": {
    "colab": {
      "provenance": []
    },
    "kernelspec": {
      "name": "python3",
      "display_name": "Python 3"
    },
    "language_info": {
      "name": "python"
    },
    "accelerator": "GPU",
    "gpuClass": "standard"
  },
  "cells": [
    {
      "cell_type": "code",
      "source": [
        "!pip install transformers"
      ],
      "metadata": {
        "id": "bdLxyDehoMHT",
        "colab": {
          "base_uri": "https://localhost:8080/"
        },
        "outputId": "82b4bfbe-1486-4100-ab3a-c491b1da9f18"
      },
      "execution_count": 354,
      "outputs": [
        {
          "output_type": "stream",
          "name": "stdout",
          "text": [
            "Looking in indexes: https://pypi.org/simple, https://us-python.pkg.dev/colab-wheels/public/simple/\n",
            "Requirement already satisfied: transformers in /usr/local/lib/python3.9/dist-packages (4.27.1)\n",
            "Requirement already satisfied: huggingface-hub<1.0,>=0.11.0 in /usr/local/lib/python3.9/dist-packages (from transformers) (0.13.2)\n",
            "Requirement already satisfied: numpy>=1.17 in /usr/local/lib/python3.9/dist-packages (from transformers) (1.22.4)\n",
            "Requirement already satisfied: tokenizers!=0.11.3,<0.14,>=0.11.1 in /usr/local/lib/python3.9/dist-packages (from transformers) (0.13.2)\n",
            "Requirement already satisfied: pyyaml>=5.1 in /usr/local/lib/python3.9/dist-packages (from transformers) (6.0)\n",
            "Requirement already satisfied: requests in /usr/local/lib/python3.9/dist-packages (from transformers) (2.27.1)\n",
            "Requirement already satisfied: tqdm>=4.27 in /usr/local/lib/python3.9/dist-packages (from transformers) (4.65.0)\n",
            "Requirement already satisfied: packaging>=20.0 in /usr/local/lib/python3.9/dist-packages (from transformers) (23.0)\n",
            "Requirement already satisfied: filelock in /usr/local/lib/python3.9/dist-packages (from transformers) (3.10.0)\n",
            "Requirement already satisfied: regex!=2019.12.17 in /usr/local/lib/python3.9/dist-packages (from transformers) (2022.10.31)\n",
            "Requirement already satisfied: typing-extensions>=3.7.4.3 in /usr/local/lib/python3.9/dist-packages (from huggingface-hub<1.0,>=0.11.0->transformers) (4.5.0)\n",
            "Requirement already satisfied: urllib3<1.27,>=1.21.1 in /usr/local/lib/python3.9/dist-packages (from requests->transformers) (1.26.15)\n",
            "Requirement already satisfied: idna<4,>=2.5 in /usr/local/lib/python3.9/dist-packages (from requests->transformers) (3.4)\n",
            "Requirement already satisfied: certifi>=2017.4.17 in /usr/local/lib/python3.9/dist-packages (from requests->transformers) (2022.12.7)\n",
            "Requirement already satisfied: charset-normalizer~=2.0.0 in /usr/local/lib/python3.9/dist-packages (from requests->transformers) (2.0.12)\n"
          ]
        }
      ]
    },
    {
      "cell_type": "code",
      "source": [
        "from google.colab import drive\n",
        "drive.mount('/content/drive')"
      ],
      "metadata": {
        "id": "LtJ1UAq7maQi",
        "colab": {
          "base_uri": "https://localhost:8080/"
        },
        "outputId": "2c7b101b-234d-4dbc-dd00-1077e5547708"
      },
      "execution_count": 355,
      "outputs": [
        {
          "output_type": "stream",
          "name": "stdout",
          "text": [
            "Drive already mounted at /content/drive; to attempt to forcibly remount, call drive.mount(\"/content/drive\", force_remount=True).\n"
          ]
        }
      ]
    },
    {
      "cell_type": "code",
      "execution_count": 356,
      "metadata": {
        "id": "ZHkxcP-HmJ2g",
        "colab": {
          "base_uri": "https://localhost:8080/"
        },
        "outputId": "e957943b-6a4c-4d90-a592-dc834f83d529"
      },
      "outputs": [
        {
          "output_type": "stream",
          "name": "stderr",
          "text": [
            "[nltk_data] Downloading package stopwords to /root/nltk_data...\n",
            "[nltk_data]   Package stopwords is already up-to-date!\n"
          ]
        }
      ],
      "source": [
        "import json\n",
        "import gensim.downloader as api\n",
        "import numpy as np\n",
        "import torch\n",
        "import string\n",
        "import transformers\n",
        "from transformers import DistilBertModel, DistilBertTokenizer, logging\n",
        "\n",
        "import nltk\n",
        "from nltk import word_tokenize\n",
        "from nltk.corpus import stopwords\n",
        "from nltk.stem.porter import PorterStemmer\n",
        "\n",
        "import matplotlib.pyplot as plt\n",
        "\n",
        "nltk.download('stopwords')\n",
        "\n",
        "device = torch.device(\"cuda:0\" if torch.cuda.is_available() else \"cpu\")"
      ]
    },
    {
      "cell_type": "code",
      "source": [
        "with open(\"drive/MyDrive/ITcup/ranking_train.jsonl\", \"r\") as f:\n",
        "    data = [json.loads(line) for line in f]"
      ],
      "metadata": {
        "id": "jFkWKMQ-mnMh"
      },
      "execution_count": 357,
      "outputs": []
    },
    {
      "cell_type": "markdown",
      "source": [],
      "metadata": {
        "id": "pfFeJhwwPIkA"
      }
    },
    {
      "cell_type": "code",
      "source": [
        "data = data[:1000]"
      ],
      "metadata": {
        "id": "uokEoyuU-TZW"
      },
      "execution_count": 358,
      "outputs": []
    },
    {
      "cell_type": "code",
      "source": [
        "stop_words = stopwords.words('english')\n",
        "for i in range(len(stop_words)):\n",
        "  stop_words[i] = \"\".join([char for char in stop_words[i] if char not in \"'\"])\n",
        "\n",
        "porter = PorterStemmer()"
      ],
      "metadata": {
        "id": "fq4q-YPA_XmN"
      },
      "execution_count": 359,
      "outputs": []
    },
    {
      "cell_type": "code",
      "source": [
        "nltk.download('punkt')\n",
        "logging.set_verbosity_error()\n",
        "\n",
        "tokenizer = DistilBertTokenizer.from_pretrained('distilbert-base-uncased', use_fast=True)\n",
        "model     = DistilBertModel.from_pretrained('distilbert-base-uncased')"
      ],
      "metadata": {
        "id": "x3YHkRwJmw5R",
        "colab": {
          "base_uri": "https://localhost:8080/"
        },
        "outputId": "2424a41c-9e03-47b7-f39e-303232edaa41"
      },
      "execution_count": 360,
      "outputs": [
        {
          "output_type": "stream",
          "name": "stderr",
          "text": [
            "[nltk_data] Downloading package punkt to /root/nltk_data...\n",
            "[nltk_data]   Package punkt is already up-to-date!\n"
          ]
        }
      ]
    },
    {
      "cell_type": "code",
      "source": [
        "scores   = []\n",
        "for i in range(len(data)):\n",
        "  for j in range(len(data[i]['comments'])):\n",
        "    scores.append(data[i]['comments'][j]['score'])\n",
        "\n",
        "exclamations = []\n",
        "questions = []\n",
        "links = []\n",
        "lengths = []\n",
        "for i in range(len(data)):\n",
        "  avg_com_len=0\n",
        "  for j in range(len(data[i]['comments'])):\n",
        "    avg_com_len += len(data[i]['comments'][j]['text'])\n",
        "  avg_com_len/=5\n",
        "  tmp_link = 0\n",
        "  tmp_length = 0\n",
        "  for j in range(len(data[i]['comments'])):\n",
        "    tmp_length = len(data[i]['comments'][j]['text'])/avg_com_len\n",
        "    tmp_exclamation = data[i]['comments'][j]['text'].count(\"!\")#/tmp_length\n",
        "    tmp_question = data[i]['comments'][j]['text'].count(\"?\")#/tmp_length\n",
        "    if (\"http\" or \"www\") in data[i]['comments'][j]['text']:\n",
        "      tmp_link += 1\n",
        "\n",
        "  exclamations.append(tmp_exclamation)\n",
        "  questions.append(tmp_question)\n",
        "  links.append(tmp_link)\n",
        "  lengths.append(tmp_length)"
      ],
      "metadata": {
        "id": "vtYvRivE9pHB"
      },
      "execution_count": 361,
      "outputs": []
    },
    {
      "cell_type": "code",
      "source": [
        "import pandas as pd\n",
        "df = pd.DataFrame(list(zip(scores[:1000], exclamations, questions, links, lengths)), columns =['Score', '!', '?', 'Has Links', 'Length'])"
      ],
      "metadata": {
        "id": "-pg7Orp0MlJM"
      },
      "execution_count": 362,
      "outputs": []
    },
    {
      "cell_type": "code",
      "source": [
        "corr = df.corr()\n",
        "corr.style.background_gradient(cmap='coolwarm')"
      ],
      "metadata": {
        "colab": {
          "base_uri": "https://localhost:8080/",
          "height": 206
        },
        "id": "XCJsYLQHSYBf",
        "outputId": "46843756-1371-443a-fa32-602d00e8bd19"
      },
      "execution_count": 363,
      "outputs": [
        {
          "output_type": "execute_result",
          "data": {
            "text/plain": [
              "<pandas.io.formats.style.Styler at 0x7fe9f4cb7c70>"
            ],
            "text/html": [
              "<style type=\"text/css\">\n",
              "#T_33dbc_row0_col0, #T_33dbc_row1_col1, #T_33dbc_row2_col2, #T_33dbc_row3_col3, #T_33dbc_row4_col4 {\n",
              "  background-color: #b40426;\n",
              "  color: #f1f1f1;\n",
              "}\n",
              "#T_33dbc_row0_col1, #T_33dbc_row0_col3, #T_33dbc_row0_col4, #T_33dbc_row1_col0, #T_33dbc_row1_col2, #T_33dbc_row3_col2 {\n",
              "  background-color: #3b4cc0;\n",
              "  color: #f1f1f1;\n",
              "}\n",
              "#T_33dbc_row0_col2 {\n",
              "  background-color: #445acc;\n",
              "  color: #f1f1f1;\n",
              "}\n",
              "#T_33dbc_row1_col3, #T_33dbc_row3_col4 {\n",
              "  background-color: #3c4ec2;\n",
              "  color: #f1f1f1;\n",
              "}\n",
              "#T_33dbc_row1_col4 {\n",
              "  background-color: #536edd;\n",
              "  color: #f1f1f1;\n",
              "}\n",
              "#T_33dbc_row2_col0 {\n",
              "  background-color: #506bda;\n",
              "  color: #f1f1f1;\n",
              "}\n",
              "#T_33dbc_row2_col1 {\n",
              "  background-color: #485fd1;\n",
              "  color: #f1f1f1;\n",
              "}\n",
              "#T_33dbc_row2_col3 {\n",
              "  background-color: #455cce;\n",
              "  color: #f1f1f1;\n",
              "}\n",
              "#T_33dbc_row2_col4 {\n",
              "  background-color: #6c8ff1;\n",
              "  color: #f1f1f1;\n",
              "}\n",
              "#T_33dbc_row3_col0 {\n",
              "  background-color: #3d50c3;\n",
              "  color: #f1f1f1;\n",
              "}\n",
              "#T_33dbc_row3_col1 {\n",
              "  background-color: #3e51c5;\n",
              "  color: #f1f1f1;\n",
              "}\n",
              "#T_33dbc_row4_col0, #T_33dbc_row4_col3 {\n",
              "  background-color: #4358cb;\n",
              "  color: #f1f1f1;\n",
              "}\n",
              "#T_33dbc_row4_col1 {\n",
              "  background-color: #5b7ae5;\n",
              "  color: #f1f1f1;\n",
              "}\n",
              "#T_33dbc_row4_col2 {\n",
              "  background-color: #688aef;\n",
              "  color: #f1f1f1;\n",
              "}\n",
              "</style>\n",
              "<table id=\"T_33dbc\" class=\"dataframe\">\n",
              "  <thead>\n",
              "    <tr>\n",
              "      <th class=\"blank level0\" >&nbsp;</th>\n",
              "      <th id=\"T_33dbc_level0_col0\" class=\"col_heading level0 col0\" >Score</th>\n",
              "      <th id=\"T_33dbc_level0_col1\" class=\"col_heading level0 col1\" >!</th>\n",
              "      <th id=\"T_33dbc_level0_col2\" class=\"col_heading level0 col2\" >?</th>\n",
              "      <th id=\"T_33dbc_level0_col3\" class=\"col_heading level0 col3\" >Has Links</th>\n",
              "      <th id=\"T_33dbc_level0_col4\" class=\"col_heading level0 col4\" >Length</th>\n",
              "    </tr>\n",
              "  </thead>\n",
              "  <tbody>\n",
              "    <tr>\n",
              "      <th id=\"T_33dbc_level0_row0\" class=\"row_heading level0 row0\" >Score</th>\n",
              "      <td id=\"T_33dbc_row0_col0\" class=\"data row0 col0\" >1.000000</td>\n",
              "      <td id=\"T_33dbc_row0_col1\" class=\"data row0 col1\" >-0.042213</td>\n",
              "      <td id=\"T_33dbc_row0_col2\" class=\"data row0 col2\" >0.035056</td>\n",
              "      <td id=\"T_33dbc_row0_col3\" class=\"data row0 col3\" >-0.031487</td>\n",
              "      <td id=\"T_33dbc_row0_col4\" class=\"data row0 col4\" >-0.009955</td>\n",
              "    </tr>\n",
              "    <tr>\n",
              "      <th id=\"T_33dbc_level0_row1\" class=\"row_heading level0 row1\" >!</th>\n",
              "      <td id=\"T_33dbc_row1_col0\" class=\"data row1 col0\" >-0.042213</td>\n",
              "      <td id=\"T_33dbc_row1_col1\" class=\"data row1 col1\" >1.000000</td>\n",
              "      <td id=\"T_33dbc_row1_col2\" class=\"data row1 col2\" >0.003894</td>\n",
              "      <td id=\"T_33dbc_row1_col3\" class=\"data row1 col3\" >-0.025979</td>\n",
              "      <td id=\"T_33dbc_row1_col4\" class=\"data row1 col4\" >0.070310</td>\n",
              "    </tr>\n",
              "    <tr>\n",
              "      <th id=\"T_33dbc_level0_row2\" class=\"row_heading level0 row2\" >?</th>\n",
              "      <td id=\"T_33dbc_row2_col0\" class=\"data row2 col0\" >0.035056</td>\n",
              "      <td id=\"T_33dbc_row2_col1\" class=\"data row2 col1\" >0.003894</td>\n",
              "      <td id=\"T_33dbc_row2_col2\" class=\"data row2 col2\" >1.000000</td>\n",
              "      <td id=\"T_33dbc_row2_col3\" class=\"data row2 col3\" >0.005149</td>\n",
              "      <td id=\"T_33dbc_row2_col4\" class=\"data row2 col4\" >0.149402</td>\n",
              "    </tr>\n",
              "    <tr>\n",
              "      <th id=\"T_33dbc_level0_row3\" class=\"row_heading level0 row3\" >Has Links</th>\n",
              "      <td id=\"T_33dbc_row3_col0\" class=\"data row3 col0\" >-0.031487</td>\n",
              "      <td id=\"T_33dbc_row3_col1\" class=\"data row3 col1\" >-0.025979</td>\n",
              "      <td id=\"T_33dbc_row3_col2\" class=\"data row3 col2\" >0.005149</td>\n",
              "      <td id=\"T_33dbc_row3_col3\" class=\"data row3 col3\" >1.000000</td>\n",
              "      <td id=\"T_33dbc_row3_col4\" class=\"data row3 col4\" >-0.002232</td>\n",
              "    </tr>\n",
              "    <tr>\n",
              "      <th id=\"T_33dbc_level0_row4\" class=\"row_heading level0 row4\" >Length</th>\n",
              "      <td id=\"T_33dbc_row4_col0\" class=\"data row4 col0\" >-0.009955</td>\n",
              "      <td id=\"T_33dbc_row4_col1\" class=\"data row4 col1\" >0.070310</td>\n",
              "      <td id=\"T_33dbc_row4_col2\" class=\"data row4 col2\" >0.149402</td>\n",
              "      <td id=\"T_33dbc_row4_col3\" class=\"data row4 col3\" >-0.002232</td>\n",
              "      <td id=\"T_33dbc_row4_col4\" class=\"data row4 col4\" >1.000000</td>\n",
              "    </tr>\n",
              "  </tbody>\n",
              "</table>\n"
            ]
          },
          "metadata": {},
          "execution_count": 363
        }
      ]
    },
    {
      "cell_type": "code",
      "source": [
        "for datum in data:\n",
        "  datum['text'] = datum['text'].lower()\n",
        "  datum['text'] = \"\".join([char for char in datum['text'] if char not in string.punctuation])\n",
        "  datum['text'] = word_tokenize(datum['text'])\n",
        "  datum['text'] = [word for word in datum['text'] if word not in stop_words]\n",
        "  #datum['text'] = ' '.join(datum['text'])\n",
        "  for comment in datum['comments']:\n",
        "    comment['text'] = comment['text'].lower()\n",
        "    comment['text'] = \"\".join([char for char in comment['text'] if char not in string.punctuation])\n",
        "    comment['text'] = word_tokenize(comment['text'])\n",
        "    comment['text'] = [word for word in comment['text'] if word not in stop_words]\n",
        "    #comment['text'] = ' '.join(comment['text'])"
      ],
      "metadata": {
        "id": "WxB82ZXH4-od"
      },
      "execution_count": 364,
      "outputs": []
    },
    {
      "cell_type": "code",
      "source": [
        "texts = []\n",
        "comments = []\n",
        "\n",
        "for i in range(len(data)):\n",
        "  texts.append(data[i]['text'])\n",
        "  for j in range(len(data[i]['comments'])):\n",
        "    comments.append(data[i]['comments'][j]['text'])"
      ],
      "metadata": {
        "id": "w_mn-CKBm4ES"
      },
      "execution_count": 365,
      "outputs": []
    },
    {
      "cell_type": "code",
      "source": [
        "from gensim.models import Word2Vec\n",
        "#import gensim.downloader as api\n",
        "#model = api.load(\"glove-wiki-gigaword-100\")\n",
        "model = Word2Vec(\n",
        "    data,\n",
        "    size=32,\n",
        "    min_count=5,\n",
        "    window=5,\n",
        "    batch_words = 24\n",
        ").wv"
      ],
      "metadata": {
        "id": "pNySHN8CJoGF"
      },
      "execution_count": 366,
      "outputs": []
    },
    {
      "cell_type": "code",
      "source": [
        "for text in texts:\n",
        "  texts_tokenized = tokenizer(texts, return_tensors=\"pt\", padding=True, truncation=True, max_length=512)\n",
        "  for comment in comments:\n",
        "    comments_tokenized = tokenizer(comments, return_tensors=\"pt\", padding=True, truncation=True, max_length=512)"
      ],
      "metadata": {
        "id": "DWu330uBwMXp",
        "colab": {
          "base_uri": "https://localhost:8080/",
          "height": 414
        },
        "outputId": "91fcbc4c-060d-4a69-8ce6-b14b36868129"
      },
      "execution_count": 367,
      "outputs": [
        {
          "output_type": "error",
          "ename": "ValueError",
          "evalue": "ignored",
          "traceback": [
            "\u001b[0;31m---------------------------------------------------------------------------\u001b[0m",
            "\u001b[0;31mValueError\u001b[0m                                Traceback (most recent call last)",
            "\u001b[0;32m<ipython-input-367-aabd93af4b4c>\u001b[0m in \u001b[0;36m<module>\u001b[0;34m\u001b[0m\n\u001b[1;32m      1\u001b[0m \u001b[0;32mfor\u001b[0m \u001b[0mtext\u001b[0m \u001b[0;32min\u001b[0m \u001b[0mtexts\u001b[0m\u001b[0;34m:\u001b[0m\u001b[0;34m\u001b[0m\u001b[0;34m\u001b[0m\u001b[0m\n\u001b[0;32m----> 2\u001b[0;31m   \u001b[0mtexts_tokenized\u001b[0m \u001b[0;34m=\u001b[0m \u001b[0mtokenizer\u001b[0m\u001b[0;34m(\u001b[0m\u001b[0mtexts\u001b[0m\u001b[0;34m,\u001b[0m \u001b[0mreturn_tensors\u001b[0m\u001b[0;34m=\u001b[0m\u001b[0;34m\"pt\"\u001b[0m\u001b[0;34m,\u001b[0m \u001b[0mpadding\u001b[0m\u001b[0;34m=\u001b[0m\u001b[0;32mTrue\u001b[0m\u001b[0;34m,\u001b[0m \u001b[0mtruncation\u001b[0m\u001b[0;34m=\u001b[0m\u001b[0;32mTrue\u001b[0m\u001b[0;34m,\u001b[0m \u001b[0mmax_length\u001b[0m\u001b[0;34m=\u001b[0m\u001b[0;36m512\u001b[0m\u001b[0;34m)\u001b[0m\u001b[0;34m\u001b[0m\u001b[0;34m\u001b[0m\u001b[0m\n\u001b[0m\u001b[1;32m      3\u001b[0m   \u001b[0;32mfor\u001b[0m \u001b[0mcomment\u001b[0m \u001b[0;32min\u001b[0m \u001b[0mcomments\u001b[0m\u001b[0;34m:\u001b[0m\u001b[0;34m\u001b[0m\u001b[0;34m\u001b[0m\u001b[0m\n\u001b[1;32m      4\u001b[0m     \u001b[0mcomments_tokenized\u001b[0m \u001b[0;34m=\u001b[0m \u001b[0mtokenizer\u001b[0m\u001b[0;34m(\u001b[0m\u001b[0mcomments\u001b[0m\u001b[0;34m,\u001b[0m \u001b[0mreturn_tensors\u001b[0m\u001b[0;34m=\u001b[0m\u001b[0;34m\"pt\"\u001b[0m\u001b[0;34m,\u001b[0m \u001b[0mpadding\u001b[0m\u001b[0;34m=\u001b[0m\u001b[0;32mTrue\u001b[0m\u001b[0;34m,\u001b[0m \u001b[0mtruncation\u001b[0m\u001b[0;34m=\u001b[0m\u001b[0;32mTrue\u001b[0m\u001b[0;34m,\u001b[0m \u001b[0mmax_length\u001b[0m\u001b[0;34m=\u001b[0m\u001b[0;36m512\u001b[0m\u001b[0;34m)\u001b[0m\u001b[0;34m\u001b[0m\u001b[0;34m\u001b[0m\u001b[0m\n",
            "\u001b[0;32m/usr/local/lib/python3.9/dist-packages/transformers/tokenization_utils_base.py\u001b[0m in \u001b[0;36m__call__\u001b[0;34m(self, text, text_pair, text_target, text_pair_target, add_special_tokens, padding, truncation, max_length, stride, is_split_into_words, pad_to_multiple_of, return_tensors, return_token_type_ids, return_attention_mask, return_overflowing_tokens, return_special_tokens_mask, return_offsets_mapping, return_length, verbose, **kwargs)\u001b[0m\n\u001b[1;32m   2528\u001b[0m             \u001b[0;32mif\u001b[0m \u001b[0;32mnot\u001b[0m \u001b[0mself\u001b[0m\u001b[0;34m.\u001b[0m\u001b[0m_in_target_context_manager\u001b[0m\u001b[0;34m:\u001b[0m\u001b[0;34m\u001b[0m\u001b[0;34m\u001b[0m\u001b[0m\n\u001b[1;32m   2529\u001b[0m                 \u001b[0mself\u001b[0m\u001b[0;34m.\u001b[0m\u001b[0m_switch_to_input_mode\u001b[0m\u001b[0;34m(\u001b[0m\u001b[0;34m)\u001b[0m\u001b[0;34m\u001b[0m\u001b[0;34m\u001b[0m\u001b[0m\n\u001b[0;32m-> 2530\u001b[0;31m             \u001b[0mencodings\u001b[0m \u001b[0;34m=\u001b[0m \u001b[0mself\u001b[0m\u001b[0;34m.\u001b[0m\u001b[0m_call_one\u001b[0m\u001b[0;34m(\u001b[0m\u001b[0mtext\u001b[0m\u001b[0;34m=\u001b[0m\u001b[0mtext\u001b[0m\u001b[0;34m,\u001b[0m \u001b[0mtext_pair\u001b[0m\u001b[0;34m=\u001b[0m\u001b[0mtext_pair\u001b[0m\u001b[0;34m,\u001b[0m \u001b[0;34m**\u001b[0m\u001b[0mall_kwargs\u001b[0m\u001b[0;34m)\u001b[0m\u001b[0;34m\u001b[0m\u001b[0;34m\u001b[0m\u001b[0m\n\u001b[0m\u001b[1;32m   2531\u001b[0m         \u001b[0;32mif\u001b[0m \u001b[0mtext_target\u001b[0m \u001b[0;32mis\u001b[0m \u001b[0;32mnot\u001b[0m \u001b[0;32mNone\u001b[0m\u001b[0;34m:\u001b[0m\u001b[0;34m\u001b[0m\u001b[0;34m\u001b[0m\u001b[0m\n\u001b[1;32m   2532\u001b[0m             \u001b[0mself\u001b[0m\u001b[0;34m.\u001b[0m\u001b[0m_switch_to_target_mode\u001b[0m\u001b[0;34m(\u001b[0m\u001b[0;34m)\u001b[0m\u001b[0;34m\u001b[0m\u001b[0;34m\u001b[0m\u001b[0m\n",
            "\u001b[0;32m/usr/local/lib/python3.9/dist-packages/transformers/tokenization_utils_base.py\u001b[0m in \u001b[0;36m_call_one\u001b[0;34m(self, text, text_pair, add_special_tokens, padding, truncation, max_length, stride, is_split_into_words, pad_to_multiple_of, return_tensors, return_token_type_ids, return_attention_mask, return_overflowing_tokens, return_special_tokens_mask, return_offsets_mapping, return_length, verbose, **kwargs)\u001b[0m\n\u001b[1;32m   2614\u001b[0m                 )\n\u001b[1;32m   2615\u001b[0m             \u001b[0mbatch_text_or_text_pairs\u001b[0m \u001b[0;34m=\u001b[0m \u001b[0mlist\u001b[0m\u001b[0;34m(\u001b[0m\u001b[0mzip\u001b[0m\u001b[0;34m(\u001b[0m\u001b[0mtext\u001b[0m\u001b[0;34m,\u001b[0m \u001b[0mtext_pair\u001b[0m\u001b[0;34m)\u001b[0m\u001b[0;34m)\u001b[0m \u001b[0;32mif\u001b[0m \u001b[0mtext_pair\u001b[0m \u001b[0;32mis\u001b[0m \u001b[0;32mnot\u001b[0m \u001b[0;32mNone\u001b[0m \u001b[0;32melse\u001b[0m \u001b[0mtext\u001b[0m\u001b[0;34m\u001b[0m\u001b[0;34m\u001b[0m\u001b[0m\n\u001b[0;32m-> 2616\u001b[0;31m             return self.batch_encode_plus(\n\u001b[0m\u001b[1;32m   2617\u001b[0m                 \u001b[0mbatch_text_or_text_pairs\u001b[0m\u001b[0;34m=\u001b[0m\u001b[0mbatch_text_or_text_pairs\u001b[0m\u001b[0;34m,\u001b[0m\u001b[0;34m\u001b[0m\u001b[0;34m\u001b[0m\u001b[0m\n\u001b[1;32m   2618\u001b[0m                 \u001b[0madd_special_tokens\u001b[0m\u001b[0;34m=\u001b[0m\u001b[0madd_special_tokens\u001b[0m\u001b[0;34m,\u001b[0m\u001b[0;34m\u001b[0m\u001b[0;34m\u001b[0m\u001b[0m\n",
            "\u001b[0;32m/usr/local/lib/python3.9/dist-packages/transformers/tokenization_utils_base.py\u001b[0m in \u001b[0;36mbatch_encode_plus\u001b[0;34m(self, batch_text_or_text_pairs, add_special_tokens, padding, truncation, max_length, stride, is_split_into_words, pad_to_multiple_of, return_tensors, return_token_type_ids, return_attention_mask, return_overflowing_tokens, return_special_tokens_mask, return_offsets_mapping, return_length, verbose, **kwargs)\u001b[0m\n\u001b[1;32m   2805\u001b[0m         )\n\u001b[1;32m   2806\u001b[0m \u001b[0;34m\u001b[0m\u001b[0m\n\u001b[0;32m-> 2807\u001b[0;31m         return self._batch_encode_plus(\n\u001b[0m\u001b[1;32m   2808\u001b[0m             \u001b[0mbatch_text_or_text_pairs\u001b[0m\u001b[0;34m=\u001b[0m\u001b[0mbatch_text_or_text_pairs\u001b[0m\u001b[0;34m,\u001b[0m\u001b[0;34m\u001b[0m\u001b[0;34m\u001b[0m\u001b[0m\n\u001b[1;32m   2809\u001b[0m             \u001b[0madd_special_tokens\u001b[0m\u001b[0;34m=\u001b[0m\u001b[0madd_special_tokens\u001b[0m\u001b[0;34m,\u001b[0m\u001b[0;34m\u001b[0m\u001b[0;34m\u001b[0m\u001b[0m\n",
            "\u001b[0;32m/usr/local/lib/python3.9/dist-packages/transformers/tokenization_utils.py\u001b[0m in \u001b[0;36m_batch_encode_plus\u001b[0;34m(self, batch_text_or_text_pairs, add_special_tokens, padding_strategy, truncation_strategy, max_length, stride, is_split_into_words, pad_to_multiple_of, return_tensors, return_token_type_ids, return_attention_mask, return_overflowing_tokens, return_special_tokens_mask, return_offsets_mapping, return_length, verbose, **kwargs)\u001b[0m\n\u001b[1;32m    729\u001b[0m                 \u001b[0mids\u001b[0m\u001b[0;34m,\u001b[0m \u001b[0mpair_ids\u001b[0m \u001b[0;34m=\u001b[0m \u001b[0mids_or_pair_ids\u001b[0m\u001b[0;34m,\u001b[0m \u001b[0;32mNone\u001b[0m\u001b[0;34m\u001b[0m\u001b[0;34m\u001b[0m\u001b[0m\n\u001b[1;32m    730\u001b[0m             \u001b[0;32melse\u001b[0m\u001b[0;34m:\u001b[0m\u001b[0;34m\u001b[0m\u001b[0;34m\u001b[0m\u001b[0m\n\u001b[0;32m--> 731\u001b[0;31m                 \u001b[0mids\u001b[0m\u001b[0;34m,\u001b[0m \u001b[0mpair_ids\u001b[0m \u001b[0;34m=\u001b[0m \u001b[0mids_or_pair_ids\u001b[0m\u001b[0;34m\u001b[0m\u001b[0;34m\u001b[0m\u001b[0m\n\u001b[0m\u001b[1;32m    732\u001b[0m \u001b[0;34m\u001b[0m\u001b[0m\n\u001b[1;32m    733\u001b[0m             \u001b[0mfirst_ids\u001b[0m \u001b[0;34m=\u001b[0m \u001b[0mget_input_ids\u001b[0m\u001b[0;34m(\u001b[0m\u001b[0mids\u001b[0m\u001b[0;34m)\u001b[0m\u001b[0;34m\u001b[0m\u001b[0;34m\u001b[0m\u001b[0m\n",
            "\u001b[0;31mValueError\u001b[0m: too many values to unpack (expected 2)"
          ]
        }
      ]
    },
    {
      "cell_type": "code",
      "source": [
        "plt.pcolormesh(comments_tokenized[\"attention_mask\"])\n",
        "plt.axis(\"off\")\n",
        "plt.colorbar()\n",
        "plt.show()"
      ],
      "metadata": {
        "id": "vo-3z6wZtF0O"
      },
      "execution_count": null,
      "outputs": []
    },
    {
      "cell_type": "code",
      "source": [
        "import numpy as np\n",
        "\n",
        "device = torch.device(\"cuda:0\" if torch.cuda.is_available() else \"cpu\")\n",
        "model.to(device)\n",
        "\n",
        "batch_size=32\n",
        "features=[]\n",
        "with torch.no_grad():\n",
        "  for i in range(0, len(comments), batch_size):\n",
        "    comments_batch = comments_tokenized[\"input_ids\"][i : i + batch_size].to(device)\n",
        "    masks_batch = comments_tokenized[\"attention_mask\"][i : i + batch_size].to(device)\n",
        "    output = model(comments_batch, masks_batch)\n",
        "    batch_features = output.last_hidden_state[:, 0, :].cpu().numpy()\n",
        "    features.append(batch_features)\n",
        "\n",
        "features = np.concatenate(features, axis=0)"
      ],
      "metadata": {
        "id": "wA749joMtx1L"
      },
      "execution_count": null,
      "outputs": []
    },
    {
      "cell_type": "code",
      "source": [
        "from sklearn.model_selection import train_test_split\n",
        "train_features, test_features, train_labels, test_labels = train_test_split(features, scores)"
      ],
      "metadata": {
        "id": "zzEiVoC-uHvz"
      },
      "execution_count": null,
      "outputs": []
    },
    {
      "cell_type": "code",
      "source": [
        "import os\n",
        "from torch import nn\n",
        "from torch.utils.data import DataLoader\n",
        "from torchvision import datasets, transforms\n",
        "\n",
        "device = \"cuda\" if torch.cuda.is_available() else \"cpu\""
      ],
      "metadata": {
        "id": "nC5jEC1TLMPr"
      },
      "execution_count": null,
      "outputs": []
    },
    {
      "cell_type": "code",
      "source": [
        "class NeuralNetwork(nn.Module):\n",
        "    def __init__(self):\n",
        "        super().__init__()\n",
        "        self.flatten = nn.Flatten()\n",
        "        self.linear_relu_stack = nn.Sequential(\n",
        "            nn.Linear(512, 256),\n",
        "            nn.LeakyReLU(0.01),\n",
        "            nn.Dropout(0.1),\n",
        "            nn.Linear(256, 128),\n",
        "            nn.LeakyReLU(0.01),\n",
        "            nn.Dropout(0.1),\n",
        "            nn.Linear(128, 64),\n",
        "            nn.LeakyReLU(0.01),\n",
        "            nn.Dropout(0.1),\n",
        "            nn.Linear(64,32),\n",
        "            nn.LeakyReLU(0.01),\n",
        "            nn.Dropout(0.1),\n",
        "            nn.Linear(32,16),\n",
        "            nn.LeakyReLU(0.01),\n",
        "            nn.Dropout(0.1),\n",
        "            nn.Linear(16,5)\n",
        "        )\n",
        "\n",
        "    def forward(self, x):\n",
        "        x = self.flatten(x)\n",
        "        logits = self.linear_relu_stack(x)\n",
        "        return logits"
      ],
      "metadata": {
        "id": "yQ4lhWwZLNfe"
      },
      "execution_count": null,
      "outputs": []
    },
    {
      "cell_type": "code",
      "source": [
        "print(NeuralNetwork().forward(posts[0].tokenized))"
      ],
      "metadata": {
        "id": "OEXzYnISOvjB"
      },
      "execution_count": null,
      "outputs": []
    }
  ]
}