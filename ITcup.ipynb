{
  "cells": [
    {
      "cell_type": "code",
      "execution_count": 37,
      "metadata": {
        "colab": {
          "base_uri": "https://localhost:8080/"
        },
        "id": "bdLxyDehoMHT",
        "outputId": "79135eb8-4b9f-4ec0-afd2-aa7d7970a98e"
      },
      "outputs": [
        {
          "output_type": "stream",
          "name": "stdout",
          "text": [
            "Looking in indexes: https://pypi.org/simple, https://us-python.pkg.dev/colab-wheels/public/simple/\n",
            "Requirement already satisfied: transformers in /usr/local/lib/python3.9/dist-packages (4.27.1)\n",
            "Requirement already satisfied: numpy>=1.17 in /usr/local/lib/python3.9/dist-packages (from transformers) (1.22.4)\n",
            "Requirement already satisfied: regex!=2019.12.17 in /usr/local/lib/python3.9/dist-packages (from transformers) (2022.10.31)\n",
            "Requirement already satisfied: filelock in /usr/local/lib/python3.9/dist-packages (from transformers) (3.10.0)\n",
            "Requirement already satisfied: huggingface-hub<1.0,>=0.11.0 in /usr/local/lib/python3.9/dist-packages (from transformers) (0.13.2)\n",
            "Requirement already satisfied: pyyaml>=5.1 in /usr/local/lib/python3.9/dist-packages (from transformers) (6.0)\n",
            "Requirement already satisfied: requests in /usr/local/lib/python3.9/dist-packages (from transformers) (2.27.1)\n",
            "Requirement already satisfied: tokenizers!=0.11.3,<0.14,>=0.11.1 in /usr/local/lib/python3.9/dist-packages (from transformers) (0.13.2)\n",
            "Requirement already satisfied: packaging>=20.0 in /usr/local/lib/python3.9/dist-packages (from transformers) (23.0)\n",
            "Requirement already satisfied: tqdm>=4.27 in /usr/local/lib/python3.9/dist-packages (from transformers) (4.65.0)\n",
            "Requirement already satisfied: typing-extensions>=3.7.4.3 in /usr/local/lib/python3.9/dist-packages (from huggingface-hub<1.0,>=0.11.0->transformers) (4.5.0)\n",
            "Requirement already satisfied: charset-normalizer~=2.0.0 in /usr/local/lib/python3.9/dist-packages (from requests->transformers) (2.0.12)\n",
            "Requirement already satisfied: certifi>=2017.4.17 in /usr/local/lib/python3.9/dist-packages (from requests->transformers) (2022.12.7)\n",
            "Requirement already satisfied: idna<4,>=2.5 in /usr/local/lib/python3.9/dist-packages (from requests->transformers) (3.4)\n",
            "Requirement already satisfied: urllib3<1.27,>=1.21.1 in /usr/local/lib/python3.9/dist-packages (from requests->transformers) (1.26.15)\n"
          ]
        }
      ],
      "source": [
        "!pip install transformers"
      ]
    },
    {
      "cell_type": "code",
      "execution_count": 38,
      "metadata": {
        "colab": {
          "base_uri": "https://localhost:8080/"
        },
        "id": "LtJ1UAq7maQi",
        "outputId": "2d5893ab-79ea-420f-f743-344c60f02301"
      },
      "outputs": [
        {
          "output_type": "stream",
          "name": "stdout",
          "text": [
            "Drive already mounted at /content/drive; to attempt to forcibly remount, call drive.mount(\"/content/drive\", force_remount=True).\n"
          ]
        }
      ],
      "source": [
        "from google.colab import drive\n",
        "drive.mount('/content/drive')"
      ]
    },
    {
      "cell_type": "code",
      "execution_count": 39,
      "metadata": {
        "colab": {
          "base_uri": "https://localhost:8080/"
        },
        "id": "ZHkxcP-HmJ2g",
        "outputId": "ceef719a-d7b7-4a26-a6a5-8744579fd73d"
      },
      "outputs": [
        {
          "output_type": "stream",
          "name": "stderr",
          "text": [
            "[nltk_data] Downloading package stopwords to /root/nltk_data...\n",
            "[nltk_data]   Package stopwords is already up-to-date!\n"
          ]
        }
      ],
      "source": [
        "import json\n",
        "import gensim.downloader as api\n",
        "import numpy as np\n",
        "import torch\n",
        "import string\n",
        "import transformers\n",
        "from transformers import DistilBertModel, DistilBertTokenizer, logging\n",
        "\n",
        "import nltk\n",
        "from nltk import word_tokenize\n",
        "from nltk.corpus import stopwords\n",
        "from nltk.stem.porter import PorterStemmer\n",
        "\n",
        "import matplotlib.pyplot as plt\n",
        "\n",
        "nltk.download('stopwords')\n",
        "\n",
        "device = torch.device(\"cuda:0\" if torch.cuda.is_available() else \"cpu\")"
      ]
    },
    {
      "cell_type": "code",
      "execution_count": 40,
      "metadata": {
        "id": "jFkWKMQ-mnMh"
      },
      "outputs": [],
      "source": [
        "with open(\"drive/MyDrive/ITcup/ranking_train.jsonl\", \"r\") as f:\n",
        "    data = [json.loads(line) for line in f]"
      ]
    },
    {
      "cell_type": "code",
      "execution_count": 41,
      "metadata": {
        "id": "gA-7e_kBuqjs"
      },
      "outputs": [],
      "source": [
        "data=data[:1000]"
      ]
    },
    {
      "cell_type": "code",
      "execution_count": 42,
      "metadata": {
        "id": "fq4q-YPA_XmN"
      },
      "outputs": [],
      "source": [
        "stop_words = stopwords.words('english')\n",
        "for i in range(len(stop_words)):\n",
        "  stop_words[i] = \"\".join([char for char in stop_words[i] if char not in \"'\"])\n",
        "\n",
        "porter = PorterStemmer()"
      ]
    },
    {
      "cell_type": "code",
      "execution_count": 43,
      "metadata": {
        "colab": {
          "base_uri": "https://localhost:8080/"
        },
        "id": "x3YHkRwJmw5R",
        "outputId": "e7f61b65-cc92-48f9-ac4c-5534e6f9f3fa"
      },
      "outputs": [
        {
          "output_type": "stream",
          "name": "stderr",
          "text": [
            "[nltk_data] Downloading package punkt to /root/nltk_data...\n",
            "[nltk_data]   Package punkt is already up-to-date!\n"
          ]
        }
      ],
      "source": [
        "nltk.download('punkt')\n",
        "logging.set_verbosity_error()"
      ]
    },
    {
      "cell_type": "code",
      "execution_count": 44,
      "metadata": {
        "id": "vtYvRivE9pHB"
      },
      "outputs": [],
      "source": [
        "scores   = []\n",
        "for i in range(len(data)):\n",
        "  for j in range(len(data[i]['comments'])):\n",
        "    scores.append(data[i]['comments'][j]['score'])\n",
        "\n",
        "exclamations = []\n",
        "questions = []\n",
        "links = []\n",
        "lengths = []\n",
        "for i in range(len(data)):\n",
        "  avg_com_len=0\n",
        "  for j in range(len(data[i]['comments'])):\n",
        "    avg_com_len += len(data[i]['comments'][j]['text'])\n",
        "  avg_com_len/=5\n",
        "  tmp_link = 0\n",
        "  tmp_length = 0\n",
        "  for j in range(len(data[i]['comments'])):\n",
        "    tmp_length = len(data[i]['comments'][j]['text'])/avg_com_len\n",
        "    tmp_exclamation = data[i]['comments'][j]['text'].count(\"!\")#/tmp_length\n",
        "    tmp_question = data[i]['comments'][j]['text'].count(\"?\")#/tmp_length\n",
        "    if (\"http\" or \"www\") in data[i]['comments'][j]['text']:\n",
        "      tmp_link += 1\n",
        "\n",
        "  exclamations.append(tmp_exclamation)\n",
        "  questions.append(tmp_question)\n",
        "  links.append(tmp_link)\n",
        "  lengths.append(tmp_length)"
      ]
    },
    {
      "cell_type": "code",
      "execution_count": 45,
      "metadata": {
        "id": "-pg7Orp0MlJM"
      },
      "outputs": [],
      "source": [
        "import pandas as pd\n",
        "df = pd.DataFrame(list(zip(scores[:1000], exclamations, questions, links, lengths)), columns =['Score', '!', '?', 'Has Links', 'Length'])"
      ]
    },
    {
      "cell_type": "code",
      "execution_count": 46,
      "metadata": {
        "colab": {
          "base_uri": "https://localhost:8080/",
          "height": 206
        },
        "id": "XCJsYLQHSYBf",
        "outputId": "5033d20e-0b3b-4303-f962-d4f58cd7fa2f"
      },
      "outputs": [
        {
          "output_type": "execute_result",
          "data": {
            "text/plain": [
              "<pandas.io.formats.style.Styler at 0x7f531f0d9310>"
            ],
            "text/html": [
              "<style type=\"text/css\">\n",
              "#T_22ebd_row0_col0, #T_22ebd_row1_col1, #T_22ebd_row2_col2, #T_22ebd_row3_col3, #T_22ebd_row4_col4 {\n",
              "  background-color: #b40426;\n",
              "  color: #f1f1f1;\n",
              "}\n",
              "#T_22ebd_row0_col1, #T_22ebd_row0_col3, #T_22ebd_row0_col4, #T_22ebd_row1_col0, #T_22ebd_row1_col2, #T_22ebd_row3_col2 {\n",
              "  background-color: #3b4cc0;\n",
              "  color: #f1f1f1;\n",
              "}\n",
              "#T_22ebd_row0_col2 {\n",
              "  background-color: #445acc;\n",
              "  color: #f1f1f1;\n",
              "}\n",
              "#T_22ebd_row1_col3, #T_22ebd_row3_col4 {\n",
              "  background-color: #3c4ec2;\n",
              "  color: #f1f1f1;\n",
              "}\n",
              "#T_22ebd_row1_col4 {\n",
              "  background-color: #536edd;\n",
              "  color: #f1f1f1;\n",
              "}\n",
              "#T_22ebd_row2_col0 {\n",
              "  background-color: #506bda;\n",
              "  color: #f1f1f1;\n",
              "}\n",
              "#T_22ebd_row2_col1 {\n",
              "  background-color: #485fd1;\n",
              "  color: #f1f1f1;\n",
              "}\n",
              "#T_22ebd_row2_col3 {\n",
              "  background-color: #455cce;\n",
              "  color: #f1f1f1;\n",
              "}\n",
              "#T_22ebd_row2_col4 {\n",
              "  background-color: #6c8ff1;\n",
              "  color: #f1f1f1;\n",
              "}\n",
              "#T_22ebd_row3_col0 {\n",
              "  background-color: #3d50c3;\n",
              "  color: #f1f1f1;\n",
              "}\n",
              "#T_22ebd_row3_col1 {\n",
              "  background-color: #3e51c5;\n",
              "  color: #f1f1f1;\n",
              "}\n",
              "#T_22ebd_row4_col0, #T_22ebd_row4_col3 {\n",
              "  background-color: #4358cb;\n",
              "  color: #f1f1f1;\n",
              "}\n",
              "#T_22ebd_row4_col1 {\n",
              "  background-color: #5b7ae5;\n",
              "  color: #f1f1f1;\n",
              "}\n",
              "#T_22ebd_row4_col2 {\n",
              "  background-color: #688aef;\n",
              "  color: #f1f1f1;\n",
              "}\n",
              "</style>\n",
              "<table id=\"T_22ebd\" class=\"dataframe\">\n",
              "  <thead>\n",
              "    <tr>\n",
              "      <th class=\"blank level0\" >&nbsp;</th>\n",
              "      <th id=\"T_22ebd_level0_col0\" class=\"col_heading level0 col0\" >Score</th>\n",
              "      <th id=\"T_22ebd_level0_col1\" class=\"col_heading level0 col1\" >!</th>\n",
              "      <th id=\"T_22ebd_level0_col2\" class=\"col_heading level0 col2\" >?</th>\n",
              "      <th id=\"T_22ebd_level0_col3\" class=\"col_heading level0 col3\" >Has Links</th>\n",
              "      <th id=\"T_22ebd_level0_col4\" class=\"col_heading level0 col4\" >Length</th>\n",
              "    </tr>\n",
              "  </thead>\n",
              "  <tbody>\n",
              "    <tr>\n",
              "      <th id=\"T_22ebd_level0_row0\" class=\"row_heading level0 row0\" >Score</th>\n",
              "      <td id=\"T_22ebd_row0_col0\" class=\"data row0 col0\" >1.000000</td>\n",
              "      <td id=\"T_22ebd_row0_col1\" class=\"data row0 col1\" >-0.042213</td>\n",
              "      <td id=\"T_22ebd_row0_col2\" class=\"data row0 col2\" >0.035056</td>\n",
              "      <td id=\"T_22ebd_row0_col3\" class=\"data row0 col3\" >-0.031487</td>\n",
              "      <td id=\"T_22ebd_row0_col4\" class=\"data row0 col4\" >-0.009955</td>\n",
              "    </tr>\n",
              "    <tr>\n",
              "      <th id=\"T_22ebd_level0_row1\" class=\"row_heading level0 row1\" >!</th>\n",
              "      <td id=\"T_22ebd_row1_col0\" class=\"data row1 col0\" >-0.042213</td>\n",
              "      <td id=\"T_22ebd_row1_col1\" class=\"data row1 col1\" >1.000000</td>\n",
              "      <td id=\"T_22ebd_row1_col2\" class=\"data row1 col2\" >0.003894</td>\n",
              "      <td id=\"T_22ebd_row1_col3\" class=\"data row1 col3\" >-0.025979</td>\n",
              "      <td id=\"T_22ebd_row1_col4\" class=\"data row1 col4\" >0.070310</td>\n",
              "    </tr>\n",
              "    <tr>\n",
              "      <th id=\"T_22ebd_level0_row2\" class=\"row_heading level0 row2\" >?</th>\n",
              "      <td id=\"T_22ebd_row2_col0\" class=\"data row2 col0\" >0.035056</td>\n",
              "      <td id=\"T_22ebd_row2_col1\" class=\"data row2 col1\" >0.003894</td>\n",
              "      <td id=\"T_22ebd_row2_col2\" class=\"data row2 col2\" >1.000000</td>\n",
              "      <td id=\"T_22ebd_row2_col3\" class=\"data row2 col3\" >0.005149</td>\n",
              "      <td id=\"T_22ebd_row2_col4\" class=\"data row2 col4\" >0.149402</td>\n",
              "    </tr>\n",
              "    <tr>\n",
              "      <th id=\"T_22ebd_level0_row3\" class=\"row_heading level0 row3\" >Has Links</th>\n",
              "      <td id=\"T_22ebd_row3_col0\" class=\"data row3 col0\" >-0.031487</td>\n",
              "      <td id=\"T_22ebd_row3_col1\" class=\"data row3 col1\" >-0.025979</td>\n",
              "      <td id=\"T_22ebd_row3_col2\" class=\"data row3 col2\" >0.005149</td>\n",
              "      <td id=\"T_22ebd_row3_col3\" class=\"data row3 col3\" >1.000000</td>\n",
              "      <td id=\"T_22ebd_row3_col4\" class=\"data row3 col4\" >-0.002232</td>\n",
              "    </tr>\n",
              "    <tr>\n",
              "      <th id=\"T_22ebd_level0_row4\" class=\"row_heading level0 row4\" >Length</th>\n",
              "      <td id=\"T_22ebd_row4_col0\" class=\"data row4 col0\" >-0.009955</td>\n",
              "      <td id=\"T_22ebd_row4_col1\" class=\"data row4 col1\" >0.070310</td>\n",
              "      <td id=\"T_22ebd_row4_col2\" class=\"data row4 col2\" >0.149402</td>\n",
              "      <td id=\"T_22ebd_row4_col3\" class=\"data row4 col3\" >-0.002232</td>\n",
              "      <td id=\"T_22ebd_row4_col4\" class=\"data row4 col4\" >1.000000</td>\n",
              "    </tr>\n",
              "  </tbody>\n",
              "</table>\n"
            ]
          },
          "metadata": {},
          "execution_count": 46
        }
      ],
      "source": [
        "corr = df.corr()\n",
        "corr.style.background_gradient(cmap='coolwarm')"
      ]
    },
    {
      "cell_type": "code",
      "execution_count": 47,
      "metadata": {
        "id": "WxB82ZXH4-od"
      },
      "outputs": [],
      "source": [
        "for datum in data:\n",
        "  datum['text'] = datum['text'].lower()\n",
        "  datum['text'] = \"\".join([char for char in datum['text'] if char not in string.punctuation])\n",
        "  datum['text'] = word_tokenize(datum['text'])\n",
        "  datum['text'] = [word for word in datum['text'] if word not in stop_words]\n",
        "  #datum['text'] = [porter.stem(word) for word in datum['text']]\n",
        "  #datum['text'] = ' '.join(datum['text'])\n",
        "  for comment in datum['comments']:\n",
        "    comment['text'] = comment['text'].lower()\n",
        "    comment['text'] = \"\".join([char for char in comment['text'] if char not in string.punctuation])\n",
        "    comment['text'] = word_tokenize(comment['text'])\n",
        "    comment['text'] = [word for word in comment['text'] if word not in stop_words]\n",
        "    #comment['text'] = [porter.stem(word) for word in comment['text']]\n",
        "    #comment['text'] = ' '.join(comment['text'])"
      ]
    },
    {
      "cell_type": "code",
      "execution_count": 48,
      "metadata": {
        "id": "w_mn-CKBm4ES"
      },
      "outputs": [],
      "source": [
        "texts = []\n",
        "comments = []\n",
        "\n",
        "for i in range(len(data)):\n",
        "  texts.append(data[i]['text'])\n",
        "  for j in range(len(data[i]['comments'])):\n",
        "    comments.append(data[i]['comments'][j]['text'])"
      ]
    },
    {
      "cell_type": "code",
      "execution_count": 49,
      "metadata": {
        "id": "pNySHN8CJoGF"
      },
      "outputs": [],
      "source": [
        "from gensim.models import Word2Vec\n",
        "import gensim.downloader as api\n",
        "model = api.load(\"glove-wiki-gigaword-100\")"
      ]
    },
    {
      "cell_type": "code",
      "execution_count": null,
      "metadata": {
        "id": "OqAy7F5j-pC9"
      },
      "outputs": [],
      "source": [
        "similarity=[]\n",
        "\n",
        "sentences=comments[0:5]\n",
        "target_sentence=texts[0]\n",
        "\n",
        "for i in range(len(texts)):\n",
        "  sentences_similarity = np.zeros(len(sentences))\n",
        "  w2v_vocab = model.vocab.keys()\n",
        "  sentences=comments[5*i:5+5*i]\n",
        "  target_sentence=texts[i]\n",
        "  for idx, sentence in enumerate(sentences):\n",
        "    sentence_words = [w for w in sentence if w in w2v_vocab]\n",
        "    if (len(sentence_words) == 0):\n",
        "      sentence_words=['fortune']\n",
        "    target_sentence_words = [w for w in target_sentence if w in w2v_vocab]\n",
        "    if (len(target_sentence_words) == 0):\n",
        "      target_sentence_words=['fortune']\n",
        "    sim = model.n_similarity(target_sentence_words, sentence_words)\n",
        "    sentences_similarity[idx] = sim\n",
        "\n",
        "  result = list(zip(sentences_similarity))\n",
        "  #result.sort(key=lambda item:item[0], reverse=True)\n",
        "  similarity+=result[0]\n",
        "  #print(\"Target:\", target_sentence)\n",
        "  #print(result[0][0])\n",
        "similarity"
      ]
    },
    {
      "cell_type": "code",
      "source": [
        "similarity_normalized = similarity.copy()\n",
        "for i in range(int(len(similarity)/5)):\n",
        "  for j in range(5):\n",
        "    similarity_normalized[5*i+j] = similarity[5*i+j] / max(similarity[5*i:5+5*i])\n",
        "df['Similarity_normalized'] = similarity_normalized"
      ],
      "metadata": {
        "id": "Ay35_T5MTM9A"
      },
      "execution_count": 52,
      "outputs": []
    },
    {
      "cell_type": "code",
      "execution_count": null,
      "metadata": {
        "id": "yQ4lhWwZLNfe"
      },
      "outputs": [],
      "source": [
        "class NeuralNetwork(nn.Module):\n",
        "    def __init__(self):\n",
        "        super().__init__()\n",
        "        self.flatten = nn.Flatten()\n",
        "        self.linear_relu_stack = nn.Sequential(\n",
        "            nn.Linear(512, 256),\n",
        "            nn.LeakyReLU(0.01),\n",
        "            nn.Dropout(0.1),\n",
        "            nn.Linear(256, 128),\n",
        "            nn.LeakyReLU(0.01),\n",
        "            nn.Dropout(0.1),\n",
        "            nn.Linear(128, 64),\n",
        "            nn.LeakyReLU(0.01),\n",
        "            nn.Dropout(0.1),\n",
        "            nn.Linear(64,32),\n",
        "            nn.LeakyReLU(0.01),\n",
        "            nn.Dropout(0.1),\n",
        "            nn.Linear(32,16),\n",
        "            nn.LeakyReLU(0.01),\n",
        "            nn.Dropout(0.1),\n",
        "            nn.Linear(16,5)\n",
        "        )\n",
        "\n",
        "    def forward(self, x):\n",
        "        x = self.flatten(x)\n",
        "        logits = self.linear_relu_stack(x)\n",
        "        return logits"
      ]
    },
    {
      "cell_type": "code",
      "execution_count": null,
      "metadata": {
        "id": "wA749joMtx1L"
      },
      "outputs": [],
      "source": [
        "import numpy as np\n",
        "\n",
        "device = torch.device(\"cuda:0\" if torch.cuda.is_available() else \"cpu\")\n",
        "model.to(device)\n",
        "\n",
        "batch_size=32\n",
        "features=[]\n",
        "with torch.no_grad():\n",
        "  for i in range(0, len(comments), batch_size):\n",
        "    comments_batch = comments_tokenized[\"input_ids\"][i : i + batch_size].to(device)\n",
        "    masks_batch = comments_tokenized[\"attention_mask\"][i : i + batch_size].to(device)\n",
        "    output = model(comments_batch, masks_batch)\n",
        "    batch_features = output.last_hidden_state[:, 0, :].cpu().numpy()\n",
        "    features.append(batch_features)\n",
        "\n",
        "features = np.concatenate(features, axis=0)"
      ]
    },
    {
      "cell_type": "code",
      "execution_count": null,
      "metadata": {
        "id": "zzEiVoC-uHvz"
      },
      "outputs": [],
      "source": [
        "from sklearn.model_selection import train_test_split\n",
        "train_features, test_features, train_labels, test_labels = train_test_split(features, scores)"
      ]
    },
    {
      "cell_type": "code",
      "execution_count": null,
      "metadata": {
        "id": "nC5jEC1TLMPr"
      },
      "outputs": [],
      "source": [
        "import os\n",
        "from torch import nn\n",
        "from torch.utils.data import DataLoader\n",
        "from torchvision import datasets, transforms\n",
        "\n",
        "device = \"cuda\" if torch.cuda.is_available() else \"cpu\""
      ]
    },
    {
      "cell_type": "code",
      "execution_count": null,
      "metadata": {
        "id": "OEXzYnISOvjB"
      },
      "outputs": [],
      "source": [
        "print(NeuralNetwork().forward(posts[0].tokenized))"
      ]
    }
  ],
  "metadata": {
    "accelerator": "GPU",
    "colab": {
      "provenance": []
    },
    "gpuClass": "standard",
    "kernelspec": {
      "display_name": "Python 3",
      "name": "python3"
    },
    "language_info": {
      "name": "python"
    }
  },
  "nbformat": 4,
  "nbformat_minor": 0
}